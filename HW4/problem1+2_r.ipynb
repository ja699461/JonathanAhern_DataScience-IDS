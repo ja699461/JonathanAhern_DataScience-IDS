{
  "cells": [
    {
      "cell_type": "code",
      "source": [
        "\n",
        "\n",
        "import pandas as pd\n",
        "\n",
        "%reload_ext rpy2.ipython"
      ],
      "metadata": {
        "id": "ZRoY1WpcA3ec"
      },
      "execution_count": 79,
      "outputs": []
    },
    {
      "cell_type": "code",
      "execution_count": 80,
      "metadata": {
        "colab": {
          "base_uri": "https://localhost:8080/",
          "height": 0
        },
        "id": "9LGjvajntgpC",
        "outputId": "f287567b-8429-4466-adb5-d1a0837c4797"
      },
      "outputs": [
        {
          "output_type": "stream",
          "name": "stdout",
          "text": [
            "      age         workclass           education     marital_status    \n",
            " Min.   :17.00   Length:14797       Min.   : 1.00   Length:14797      \n",
            " 1st Qu.:28.00   Class :character   1st Qu.: 9.00   Class :character  \n",
            " Median :37.00   Mode  :character   Median :10.00   Mode  :character  \n",
            " Mean   :38.69                      Mean   :10.07                     \n",
            " 3rd Qu.:48.00                      3rd Qu.:12.00                     \n",
            " Max.   :90.00                      Max.   :16.00                     \n",
            "  occupation            sex             capital_gain    capital_loss    \n",
            " Length:14797       Length:14797       Min.   :    0   Min.   :   0.00  \n",
            " Class :character   Class :character   1st Qu.:    0   1st Qu.:   0.00  \n",
            " Mode  :character   Mode  :character   Median :    0   Median :   0.00  \n",
            "                                       Mean   : 1067   Mean   :  88.58  \n",
            "                                       3rd Qu.:    0   3rd Qu.:   0.00  \n",
            "                                       Max.   :99999   Max.   :4356.00  \n",
            "    income         \n",
            " Length:14797      \n",
            " Class :character  \n",
            " Mode  :character  \n",
            "                   \n",
            "                   \n",
            "                   \n"
          ]
        }
      ],
      "source": [
        "%%R\n",
        "\n",
        "library(readr)\n",
        "adult_training <- read_csv(\"https://raw.githubusercontent.com/bforoura/IDS/main/HW4/adult_training.csv\", show_col_types = FALSE)\n",
        "\n",
        "\n",
        "colnames(adult_training) <- c('age','workclass','education','marital_status','occupation','sex','capital_gain','capital_loss','income')\n",
        "summary(adult_training)"
      ]
    },
    {
      "cell_type": "code",
      "execution_count": 81,
      "metadata": {
        "colab": {
          "base_uri": "https://localhost:8080/",
          "height": 0
        },
        "id": "Q2_JnRiPu028",
        "outputId": "295d0c8e-fdcc-4861-ad21-9ea437bd312d"
      },
      "outputs": [
        {
          "output_type": "stream",
          "name": "stdout",
          "text": [
            "                  Female Male\n",
            "                             \n",
            "?                    377  452\n",
            "Federal-gov          149  305\n",
            "Local-gov            377  592\n",
            "Never-worked           1    4\n",
            "Private             3574 6707\n",
            "Self-emp-inc          54  444\n",
            "Self-emp-not-inc     178  992\n",
            "State-gov            201  385\n",
            "Without-pay            1    4\n"
          ]
        }
      ],
      "source": [
        "%%R\n",
        "\n",
        "\n",
        "r_crosstab <- table(adult_training$workclass, adult_training$sex)\n",
        "\n",
        "ftable(r_crosstab)"
      ]
    },
    {
      "cell_type": "markdown",
      "source": [
        "Contingency table of workclass and sex."
      ],
      "metadata": {
        "id": "dwo0hRFYq4rr"
      }
    },
    {
      "cell_type": "code",
      "execution_count": 18,
      "metadata": {
        "colab": {
          "base_uri": "https://localhost:8080/",
          "height": 497
        },
        "id": "WbUXmnY9xivk",
        "outputId": "3a2f6bf6-65c2-4a89-f568-30975472cd3d"
      },
      "outputs": [
        {
          "output_type": "display_data",
          "data": {
            "image/png": "[encoded data removed]"
          },
          "metadata": {}
        }
      ],
      "source": [
        "%%R\n",
        "\n",
        "barplot(r_crosstab, rows = colors, beside = TRUE)"
      ]
    },
    {
      "cell_type": "markdown",
      "source": [
        "Plot of contingency table."
      ],
      "metadata": {
        "id": "UBnHoHpUrCFd"
      }
    },
    {
      "cell_type": "code",
      "execution_count": 20,
      "metadata": {
        "colab": {
          "base_uri": "https://localhost:8080/",
          "height": 0
        },
        "id": "-RLpu8zIvfEZ",
        "outputId": "49b0b9fd-3aa5-4cb0-f37d-84644bd26df4"
      },
      "outputs": [
        {
          "output_type": "stream",
          "name": "stdout",
          "text": [
            "                       Female Male\n",
            "                                  \n",
            "Divorced                 1219  795\n",
            "Married-AF-spouse           7    4\n",
            "Married-civ-spouse        761 6010\n",
            "Married-spouse-absent      95  104\n",
            "Never-married            2160 2717\n",
            "Separated                 290  182\n",
            "Widowed                   380   73\n"
          ]
        }
      ],
      "source": [
        "%%R\n",
        "\n",
        "\n",
        "r_crosstab2 <- table(adult_training$marital_status, adult_training$sex)\n",
        "\n",
        "ftable(r_crosstab2)"
      ]
    },
    {
      "cell_type": "markdown",
      "source": [
        "Contingency table of marital status and sex."
      ],
      "metadata": {
        "id": "QhC_f2m1q-oM"
      }
    },
    {
      "cell_type": "code",
      "execution_count": 21,
      "metadata": {
        "colab": {
          "base_uri": "https://localhost:8080/",
          "height": 497
        },
        "id": "355WMvyxwzhs",
        "outputId": "41acde26-7325-4a6b-e36e-e036b0af200f"
      },
      "outputs": [
        {
          "output_type": "display_data",
          "data": {
            "image/png": "[encoded data removed]"
          },
          "metadata": {}
        }
      ],
      "source": [
        "%%R\n",
        "\n",
        "barplot(r_crosstab2, rows = colors, beside = TRUE)"
      ]
    },
    {
      "cell_type": "markdown",
      "source": [
        "Plot of contingency table."
      ],
      "metadata": {
        "id": "YsdNq4RTrI3C"
      }
    },
    {
      "cell_type": "code",
      "execution_count": 82,
      "metadata": {
        "id": "CfZaHp-_4-9a"
      },
      "outputs": [],
      "source": [
        "%%R\n",
        "\n",
        "adult_training$under40 <- adult_training$age>40"
      ]
    },
    {
      "cell_type": "markdown",
      "source": [
        "Creating a new data frame that is a true false table. If age is over 40, true, else false."
      ],
      "metadata": {
        "id": "9sVYTUZarVxw"
      }
    },
    {
      "cell_type": "code",
      "execution_count": 83,
      "metadata": {
        "colab": {
          "base_uri": "https://localhost:8080/"
        },
        "id": "lQ92lX4C9Epy",
        "outputId": "d0aa2a1d-2b81-4bca-dd1b-856d0ec6521c"
      },
      "outputs": [
        {
          "output_type": "stream",
          "name": "stdout",
          "text": [
            "       Female Male\n",
            "                  \n",
            "FALSE    3106 5547\n",
            "TRUE     1806 4338\n"
          ]
        }
      ],
      "source": [
        "%%R\n",
        "\n",
        "\n",
        "r_crosstab <- table(adult_training$under40, adult_training$sex)\n",
        "\n",
        "ftable(r_crosstab)"
      ]
    },
    {
      "cell_type": "markdown",
      "source": [
        "Contigency table of adults over 40 and sex. "
      ],
      "metadata": {
        "id": "w22VdlfXrQ44"
      }
    },
    {
      "cell_type": "code",
      "source": [
        "%%R\n",
        "\n",
        "adult_training$scaled_ed <- scale(x = adult_training$education)\n",
        "\n",
        "summary(adult_training$scaled_ed)"
      ],
      "metadata": {
        "colab": {
          "base_uri": "https://localhost:8080/",
          "height": 0
        },
        "id": "-qmOc-31ezfa",
        "outputId": "df572138-e95e-4424-c0de-c4fa57ba5fc5"
      },
      "execution_count": 74,
      "outputs": [
        {
          "output_type": "stream",
          "name": "stdout",
          "text": [
            "       V1          \n",
            " Min.   :-3.49029  \n",
            " 1st Qu.:-0.41135  \n",
            " Median :-0.02648  \n",
            " Mean   : 0.00000  \n",
            " 3rd Qu.: 0.74326  \n",
            " Max.   : 2.28273  \n"
          ]
        }
      ]
    },
    {
      "cell_type": "code",
      "source": [
        "%%R\n",
        "\n",
        "three_sigma_rule <- (adult_training$scaled_ed < -3 | \n",
        "                     adult_training$scaled_ed > 3 )\n",
        "\n",
        "cat (\"There are\", sum(three_sigma_rule), \"outliers \\n\\n\")\n",
        "\n",
        "\n",
        "\n",
        "cat(\"The scaled scaled_ed values that are outliers: \\n\\n\")\n",
        "adult_training$scaled_ed[which(three_sigma_rule)]"
      ],
      "metadata": {
        "colab": {
          "base_uri": "https://localhost:8080/",
          "height": 0
        },
        "id": "ReBZHS8jUZ5W",
        "outputId": "e3797bb6-87cd-4f70-9a70-d4f6bb097c49"
      },
      "execution_count": 75,
      "outputs": [
        {
          "output_type": "stream",
          "name": "stdout",
          "text": [
            "There are 113 outliers \n",
            "\n",
            "The scaled scaled_ed values that are outliers: \n",
            "\n",
            "  [1] -3.105418 -3.490285 -3.105418 -3.105418 -3.105418 -3.105418 -3.105418\n",
            "  [8] -3.105418 -3.105418 -3.105418 -3.490285 -3.490285 -3.105418 -3.490285\n",
            " [15] -3.105418 -3.490285 -3.105418 -3.105418 -3.105418 -3.105418 -3.105418\n",
            " [22] -3.105418 -3.490285 -3.490285 -3.105418 -3.105418 -3.490285 -3.490285\n",
            " [29] -3.490285 -3.105418 -3.105418 -3.490285 -3.105418 -3.105418 -3.105418\n",
            " [36] -3.490285 -3.105418 -3.490285 -3.105418 -3.105418 -3.105418 -3.105418\n",
            " [43] -3.105418 -3.105418 -3.105418 -3.105418 -3.105418 -3.105418 -3.105418\n",
            " [50] -3.105418 -3.105418 -3.105418 -3.105418 -3.105418 -3.105418 -3.105418\n",
            " [57] -3.105418 -3.105418 -3.490285 -3.105418 -3.105418 -3.105418 -3.105418\n",
            " [64] -3.105418 -3.105418 -3.105418 -3.105418 -3.105418 -3.105418 -3.105418\n",
            " [71] -3.490285 -3.105418 -3.490285 -3.490285 -3.490285 -3.105418 -3.490285\n",
            " [78] -3.105418 -3.490285 -3.490285 -3.490285 -3.105418 -3.490285 -3.105418\n",
            " [85] -3.105418 -3.105418 -3.105418 -3.105418 -3.105418 -3.105418 -3.105418\n",
            " [92] -3.105418 -3.105418 -3.105418 -3.105418 -3.105418 -3.105418 -3.105418\n",
            " [99] -3.105418 -3.105418 -3.105418 -3.105418 -3.105418 -3.105418 -3.105418\n",
            "[106] -3.105418 -3.105418 -3.105418 -3.105418 -3.105418 -3.105418 -3.490285\n",
            "[113] -3.105418\n"
          ]
        }
      ]
    },
    {
      "cell_type": "code",
      "execution_count": 24,
      "metadata": {
        "colab": {
          "base_uri": "https://localhost:8080/",
          "height": 0
        },
        "id": "uds6LTZ_0qa6",
        "outputId": "42c7efa1-1f11-4d72-c9d6-7d46ee73cf06"
      },
      "outputs": [
        {
          "output_type": "stream",
          "name": "stdout",
          "text": [
            "       V1         \n",
            " Min.   :-1.5855  \n",
            " 1st Qu.:-0.7813  \n",
            " Median :-0.1234  \n",
            " Mean   : 0.0000  \n",
            " 3rd Qu.: 0.6808  \n",
            " Max.   : 3.7512  \n"
          ]
        }
      ],
      "source": [
        "%%R\n",
        "\n",
        "adult_training$scaled_age <- scale(x = adult_training$age)\n",
        "\n",
        "summary(adult_training$scaled_age)"
      ]
    },
    {
      "cell_type": "code",
      "execution_count": 27,
      "metadata": {
        "colab": {
          "base_uri": "https://localhost:8080/",
          "height": 0
        },
        "id": "iQxkot4H-Q6o",
        "outputId": "ef2ceeb2-b470-4628-aab3-d43122181bce"
      },
      "outputs": [
        {
          "output_type": "stream",
          "name": "stdout",
          "text": [
            "There are 60 outliers \n",
            "\n",
            "The scaled scaled_age values that are outliers: \n",
            "\n",
            " [1] 3.751227 3.020173 3.751227 3.605016 3.751227 3.751227 3.166384 3.751227\n",
            " [9] 3.020173 3.751227 3.751227 3.239489 3.385700 3.166384 3.020173 3.751227\n",
            "[17] 3.020173 3.751227 3.312594 3.751227 3.751227 3.312594 3.020173 3.751227\n",
            "[25] 3.312594 3.751227 3.093278 3.020173 3.020173 3.751227 3.020173 3.751227\n",
            "[33] 3.239489 3.166384 3.751227 3.751227 3.166384 3.385700 3.093278 3.093278\n",
            "[41] 3.751227 3.166384 3.605016 3.312594 3.458805 3.751227 3.166384 3.093278\n",
            "[49] 3.751227 3.020173 3.312594 3.751227 3.093278 3.751227 3.531911 3.020173\n",
            "[57] 3.166384 3.751227 3.385700 3.166384\n"
          ]
        }
      ],
      "source": [
        "%%R\n",
        "\n",
        "three_sigma_rule <- (adult_training$scaled_age < -3 | \n",
        "                     adult_training$scaled_age > 3 )\n",
        "\n",
        "\n",
        "cat (\"There are\", sum(three_sigma_rule), \"outliers \\n\\n\")\n",
        "\n",
        "\n",
        "\n",
        "\n",
        "cat(\"The scaled scaled_age values that are outliers: \\n\\n\")\n",
        "adult_training$scaled_age[which(three_sigma_rule)]"
      ]
    },
    {
      "cell_type": "markdown",
      "source": [
        "The most extreme outlier is age 90 or standerdized number 3.751227"
      ],
      "metadata": {
        "id": "uugDlGDkrjoC"
      }
    },
    {
      "cell_type": "code",
      "source": [
        "%%R\n",
        "\n",
        "adult_training$Age_binned <- cut(x = adult_training$age, breaks = c(79,120),\n",
        "       right = TRUE, \n",
        "       labels = c(\"Over_80\"))\n",
        "\n",
        "\n",
        "table(adult_training$Age_binned)"
      ],
      "metadata": {
        "colab": {
          "base_uri": "https://localhost:8080/"
        },
        "id": "5SI0WjY6E1u0",
        "outputId": "488b009d-5fb7-4a28-b551-7e949039ce1d"
      },
      "execution_count": 85,
      "outputs": [
        {
          "output_type": "stream",
          "name": "stdout",
          "text": [
            "\n",
            "Over_80 \n",
            "     60 \n"
          ]
        }
      ]
    },
    {
      "cell_type": "code",
      "source": [
        "%%R \n",
        "\n",
        "r_crosstab3 <- table(adult_training$age, adult_training$Age_binned )\n",
        "\n",
        "colors <- c(\"blue\", \"orange\")\n",
        "\n",
        "barplot(r_crosstab3, col = colors, beside = TRUE)\n",
        "legend(\"topright\", legend = c(\"Marked\", \"None\"), \n",
        "       fill = colors)"
      ],
      "metadata": {
        "colab": {
          "base_uri": "https://localhost:8080/",
          "height": 497
        },
        "id": "BdJOOfUsFPXs",
        "outputId": "1c9dd5b5-3036-4805-82a5-e4a11e9b9146"
      },
      "execution_count": 86,
      "outputs": [
        {
          "output_type": "display_data",
          "data": {
            "image/png": "[encoded data removed]"
          },
          "metadata": {}
        }
      ]
    },
    {
      "cell_type": "code",
      "source": [
        "%%R\n",
        "\n",
        "hist(r_crosstab3)"
      ],
      "metadata": {
        "colab": {
          "base_uri": "https://localhost:8080/",
          "height": 497
        },
        "id": "9ax4E_aCGLTD",
        "outputId": "fe5c65c1-23f5-4908-9b06-fef1b8c9e796"
      },
      "execution_count": 87,
      "outputs": [
        {
          "output_type": "display_data",
          "data": {
            "image/png": "[encoded data removed]"
          },
          "metadata": {}
        }
      ]
    },
    {
      "cell_type": "markdown",
      "source": [
        "This graph I cross tabulated with age so I was able to graph the histogram.\n",
        "\n",
        "The graph amost seems to be right tailed/ partially bimodal. It shows that about 4/5ths of the data falls between the first half of the histogram while there is a 1/5 percentasge at the end. "
      ],
      "metadata": {
        "id": "x4C0cBTtsCvx"
      }
    },
    {
      "cell_type": "code",
      "source": [
        "%%R\n",
        "\n",
        "library(readr)\n",
        "nutrition_subset <- read_csv(\"https://raw.githubusercontent.com/bforoura/IDS/main/HW4/nutrition_subset.csv\", show_col_types = FALSE)\n",
        "\n",
        "colnames(nutrition_subset) <- c('food_item','weight_in_grams','saturated_fat','cholesterol')\n",
        "summary(nutrition_subset)"
      ],
      "metadata": {
        "colab": {
          "base_uri": "https://localhost:8080/"
        },
        "id": "X3Uu6xjNGo4K",
        "outputId": "82923979-8593-4d5a-a9d1-5d449eea3b99"
      },
      "execution_count": 96,
      "outputs": [
        {
          "output_type": "stream",
          "name": "stdout",
          "text": [
            "  food_item         weight_in_grams  saturated_fat      cholesterol     \n",
            " Length:961         Min.   :   0.4   Min.   :  0.000   Min.   :   0.00  \n",
            " Class :character   1st Qu.:  32.0   1st Qu.:  0.000   1st Qu.:   0.00  \n",
            " Mode  :character   Median : 113.0   Median :  0.400   Median :   0.00  \n",
            "                    Mean   : 149.4   Mean   :  3.988   Mean   :  32.55  \n",
            "                    3rd Qu.: 218.0   3rd Qu.:  3.300   3rd Qu.:  20.00  \n",
            "                    Max.   :1542.0   Max.   :119.900   Max.   :2053.00  \n"
          ]
        }
      ]
    },
    {
      "cell_type": "code",
      "source": [
        "%%R\n",
        "head(nutrition_subset[order(nutrition_subset$saturated_fat, decreasing=TRUE), 1:4])"
      ],
      "metadata": {
        "colab": {
          "base_uri": "https://localhost:8080/"
        },
        "id": "uab6w7yJJu50",
        "outputId": "2dd8c52c-6b0d-4f9a-c216-2f2d710343aa"
      },
      "execution_count": 97,
      "outputs": [
        {
          "output_type": "stream",
          "name": "stdout",
          "text": [
            "# A tibble: 6 × 4\n",
            "  food_item                            weight_in_grams saturated_fat cholesterol\n",
            "  <chr>                                          <dbl>         <dbl>       <dbl>\n",
            "1 CHEESECAKE                    1 CAKE            1110         120.         2053\n",
            "2 ICE CREAM; VANLLA; RICH 16% FT1/2 G…            1188         118.          703\n",
            "3 YELLOWCAKE W/ CHOCFRSTNG;COMML1 CAKE            1108          92           609\n",
            "4 CREME PIE                     1 PIE              910          90.1          46\n",
            "5 LARD                          1 CUP              205          80.4         195\n",
            "6 ICE CREAM; VANLLA; REGULR 11% 1/2 G…            1064          71.3         476\n"
          ]
        }
      ]
    },
    {
      "cell_type": "code",
      "source": [
        "%%R\n",
        "\n",
        "nutrition_subset$sfpg <- nutrition_subset$saturated_fat/nutrition_subset$weight_in_grams\n",
        "\n",
        "(nutrition_subset[order(nutrition_subset$sfpg, decreasing=TRUE), 1:4])"
      ],
      "metadata": {
        "colab": {
          "base_uri": "https://localhost:8080/"
        },
        "id": "LwLz-yGzLqOA",
        "outputId": "dc8d2cdb-794e-4d57-e1b7-4bd435bd8235"
      },
      "execution_count": 98,
      "outputs": [
        {
          "output_type": "stream",
          "name": "stdout",
          "text": [
            "# A tibble: 961 × 4\n",
            "   food_item                           weight_in_grams saturated_fat cholesterol\n",
            "   <chr>                                         <dbl>         <dbl>       <dbl>\n",
            " 1 BUTTER; SALTED                1 TB…            14             7.1          31\n",
            " 2 BUTTER; UNSALTED              1 TB…            14             7.1          31\n",
            " 3 BUTTER; SALTED                1/2 …           113            57.1         247\n",
            " 4 BUTTER; UNSALTED              1/2 …           113            57.1         247\n",
            " 5 BUTTER; SALTED                1 PAT             5             2.5          11\n",
            " 6 BUTTER; UNSALTED              1 PAT             5             2.5          11\n",
            " 7 LARD                          1 TB…            13             5.1          12\n",
            " 8 LARD                          1 CUP           205            80.4         195\n",
            " 9 IMITATION CREAMERS; POWDERED  1 TSP             2             0.7           0\n",
            "10 CHOCOLATE; BITTER OT BAKING   1 OZ             28.4           9             0\n",
            "# … with 951 more rows\n"
          ]
        }
      ]
    },
    {
      "cell_type": "markdown",
      "source": [
        "I got the same results as I did in python. BUTTER; SALTED                1 TB"
      ],
      "metadata": {
        "id": "QSPsZoemsuep"
      }
    },
    {
      "cell_type": "code",
      "source": [
        "%%R\n",
        "\n",
        "nutrition_subset$scaled_sfpg <- scale(x = nutrition_subset$sfpg)\n",
        "\n",
        "summary(nutrition_subset$scaled_sfpg)\n",
        "\n",
        "three_sigma_rule <- (nutrition_subset$scaled_sfpg < -3 | \n",
        "                     nutrition_subset$scaled_sfpg > 3 )\n",
        "\n",
        "\n",
        "\n",
        "cat (\"There are\", sum(three_sigma_rule), \"outliers \\n\\n\")\n",
        "\n",
        "\n",
        "cat(\"The scaled_sfpg values that are outliers: \\n\\n\")\n",
        "nutrition_subset$scaled_sfpg[which(three_sigma_rule)]\n"
      ],
      "metadata": {
        "colab": {
          "base_uri": "https://localhost:8080/"
        },
        "id": "tAirW2STM55c",
        "outputId": "fa4717d0-a8b3-4254-fef6-4842966b6d1e"
      },
      "execution_count": 142,
      "outputs": [
        {
          "output_type": "stream",
          "name": "stdout",
          "text": [
            "There are 15 outliers \n",
            "\n",
            "The scaled_sfpg values that are outliers: \n",
            "\n",
            " [1] 4.238469 3.936637 4.202078 3.940837 7.079055 7.079055 5.368580 3.276520\n",
            " [9] 5.370282 3.222049 7.106775 7.106775 6.998763 6.998763 4.730522\n"
          ]
        }
      ]
    },
    {
      "cell_type": "markdown",
      "source": [
        ""
      ],
      "metadata": {
        "id": "Lo72nI7JwRjV"
      }
    },
    {
      "cell_type": "code",
      "source": [
        "%%R\n",
        "\n",
        "nutrition_subset[order(nutrition_subset$sfpg, decreasing=TRUE), 1:4]"
      ],
      "metadata": {
        "colab": {
          "base_uri": "https://localhost:8080/"
        },
        "id": "s_L7d2SRwun6",
        "outputId": "af238920-3efe-4078-dcd5-dfd68078c138"
      },
      "execution_count": 141,
      "outputs": [
        {
          "output_type": "stream",
          "name": "stdout",
          "text": [
            "# A tibble: 961 × 4\n",
            "   food_item                           weight_in_grams saturated_fat cholesterol\n",
            "   <chr>                                         <dbl>         <dbl>       <dbl>\n",
            " 1 BUTTER; SALTED                1 TB…            14             7.1          31\n",
            " 2 BUTTER; UNSALTED              1 TB…            14             7.1          31\n",
            " 3 BUTTER; SALTED                1/2 …           113            57.1         247\n",
            " 4 BUTTER; UNSALTED              1/2 …           113            57.1         247\n",
            " 5 BUTTER; SALTED                1 PAT             5             2.5          11\n",
            " 6 BUTTER; UNSALTED              1 PAT             5             2.5          11\n",
            " 7 LARD                          1 TB…            13             5.1          12\n",
            " 8 LARD                          1 CUP           205            80.4         195\n",
            " 9 IMITATION CREAMERS; POWDERED  1 TSP             2             0.7           0\n",
            "10 CHOCOLATE; BITTER OT BAKING   1 OZ             28.4           9             0\n",
            "# … with 951 more rows\n"
          ]
        }
      ]
    },
    {
      "cell_type": "code",
      "source": [
        "%%R\n",
        "\n",
        "\n",
        "d2 <- density(nutrition_subset$scaled_sfpg) \n",
        "\n",
        "\n",
        "plot(d2, main=\"Density of Scaled Saturated Fat Per Gram\") \n",
        "\n",
        "polygon(d2, col=\"orange\", border=\"blue\") "
      ],
      "metadata": {
        "colab": {
          "base_uri": "https://localhost:8080/",
          "height": 497
        },
        "id": "h4WBX9qsNNrM",
        "outputId": "e453c9bf-8f30-412b-faba-974c716cd801"
      },
      "execution_count": 100,
      "outputs": [
        {
          "output_type": "display_data",
          "data": {
            "image/png": "[encoded data removed]"
          },
          "metadata": {}
        }
      ]
    },
    {
      "cell_type": "code",
      "source": [
        "%%R\n",
        "\n",
        "\n",
        "cat(\"No. missing values = \", sum(is.na(nutrition_subset$saturated_fat)), \"\\n\\n\")\n",
        "\n",
        "\n",
        "cat(\"Before imputation: \", head(nutrition_subset$saturated_fat, 10), \"...\\n\")\n"
      ],
      "metadata": {
        "colab": {
          "base_uri": "https://localhost:8080/"
        },
        "id": "eLaM2ARJPHoG",
        "outputId": "365776dc-f26f-4ccd-d5ab-14389d2317d7"
      },
      "execution_count": 101,
      "outputs": [
        {
          "output_type": "stream",
          "name": "stdout",
          "text": [
            "No. missing values =  0 \n",
            "\n",
            "Before imputation:  0 0.8 0 5.4 19.1 1 0 2.9 0.3 0.3 ...\n"
          ]
        }
      ]
    },
    {
      "cell_type": "code",
      "source": [
        "%%R\n",
        "\n",
        "cat(\"No. missing values = \", sum(is.na(nutrition_subset$weight_in_grams)), \"\\n\\n\")\n",
        "\n",
        "cat(\"Before imputation: \", head(nutrition_subset$weight_in_grams, 10), \"...\\n\")"
      ],
      "metadata": {
        "colab": {
          "base_uri": "https://localhost:8080/"
        },
        "id": "urFdTdMbR4xZ",
        "outputId": "aaa3cebe-07ad-443a-e753-e7c667399974"
      },
      "execution_count": 102,
      "outputs": [
        {
          "output_type": "stream",
          "name": "stdout",
          "text": [
            "No. missing values =  0 \n",
            "\n",
            "Before imputation:  7 28.35 7 28.35 100 5 8 48 85 68 ...\n"
          ]
        }
      ]
    },
    {
      "cell_type": "code",
      "source": [
        "%%R\n",
        "\n",
        "cat(\"No. missing values = \", sum(is.na(nutrition_subset$cholesterol)), \"\\n\\n\")\n",
        "\n",
        "cat(\"Before imputation: \", head(nutrition_subset$cholesterol, 10), \"...\\n\")"
      ],
      "metadata": {
        "colab": {
          "base_uri": "https://localhost:8080/"
        },
        "id": "ErJqrvzDR-_1",
        "outputId": "fe17e349-a084-45b7-8a01-e94961abee3f"
      },
      "execution_count": 103,
      "outputs": [
        {
          "output_type": "stream",
          "name": "stdout",
          "text": [
            "No. missing values =  0 \n",
            "\n",
            "Before imputation:  0 0 0 22 79 4 0 59 48 12 ...\n"
          ]
        }
      ]
    },
    {
      "cell_type": "code",
      "source": [
        "%%R\n",
        "\n",
        "nutrition_subset$sf <- scale(x = nutrition_subset$saturated_fat)\n",
        "\n",
        "summary(nutrition_subset$sf)\n",
        "\n",
        "three_sigma_rule <- (nutrition_subset$sf < -3 | \n",
        "                     nutrition_subset$sf > 3 )\n",
        "\n",
        "\n",
        "\n",
        "cat (\"There are\", sum(three_sigma_rule), \"outliers \\n\\n\")\n",
        "\n",
        "\n",
        "cat(\"The scaled sf values that are outliers: \\n\\n\")\n",
        "nutrition_subset$sf[which(three_sigma_rule)]"
      ],
      "metadata": {
        "colab": {
          "base_uri": "https://localhost:8080/"
        },
        "id": "rcaQTtbfSLfn",
        "outputId": "30c2f9d1-a67b-4d61-9e7b-9244e0ac3b87"
      },
      "execution_count": 104,
      "outputs": [
        {
          "output_type": "stream",
          "name": "stdout",
          "text": [
            "There are 20 outliers \n",
            "\n",
            "The scaled sf values that are outliers: \n",
            "\n",
            " [1]  4.059096 10.788208  4.468613  4.803673  5.771622  4.077710  3.184218\n",
            " [8]  8.191497  6.264904  3.500663 10.639293  8.014660  4.729215  3.928795\n",
            "[15]  4.943281  4.943281  7.111860  3.025996  3.277290  4.403463\n"
          ]
        }
      ]
    },
    {
      "cell_type": "code",
      "source": [
        "%%R\n",
        "\n",
        "nutrition_subset$c <- scale(x = nutrition_subset$cholesterol)\n",
        "\n",
        "summary(nutrition_subset$c)\n",
        "\n",
        "three_sigma_rule <- (nutrition_subset$c < -3 | \n",
        "                     nutrition_subset$c > 3 )\n",
        "\n",
        "\n",
        "cat (\"There are\", sum(three_sigma_rule), \"outliers \\n\\n\")\n",
        "\n",
        "\n",
        "\n",
        "cat(\"The scaled c values that are outliers: \\n\\n\")\n",
        "nutrition_subset$c[which(three_sigma_rule)]"
      ],
      "metadata": {
        "colab": {
          "base_uri": "https://localhost:8080/"
        },
        "id": "r-NImeZ5SpYQ",
        "outputId": "98e26fcf-5a9d-4062-ff59-f26cc412bf0e"
      },
      "execution_count": 105,
      "outputs": [
        {
          "output_type": "stream",
          "name": "stdout",
          "text": [
            "There are 17 outliers \n",
            "\n",
            "The scaled c values that are outliers: \n",
            "\n",
            " [1]  3.146420  4.355150  8.148063  5.063716 16.842585  8.898309  4.471855\n",
            " [8]  4.330142  4.713601  9.590203  4.530208  5.188757  6.872644  4.805298\n",
            "[15]  3.696601  5.030372  5.588889\n"
          ]
        }
      ]
    },
    {
      "cell_type": "code",
      "source": [
        "%%R\n",
        "\n",
        "nutrition_subset$wig <- scale(x = nutrition_subset$weight_in_grams)\n",
        "\n",
        "summary(nutrition_subset$wig)\n",
        "\n",
        "three_sigma_rule <- (nutrition_subset$wig < -3 | \n",
        "                     nutrition_subset$wig > 3 )\n",
        "\n",
        "\n",
        "cat (\"There are\", sum(three_sigma_rule), \"outliers \\n\\n\")\n",
        "\n",
        "\n",
        "\n",
        "\n",
        "cat(\"The scaled wig values that are outliers: \\n\\n\")\n",
        "nutrition_subset$wig[which(three_sigma_rule)]"
      ],
      "metadata": {
        "colab": {
          "base_uri": "https://localhost:8080/"
        },
        "id": "zncMueDLSqHs",
        "outputId": "3dabfe6e-0d18-4991-e62a-946fbc0e89ae"
      },
      "execution_count": 106,
      "outputs": [
        {
          "output_type": "stream",
          "name": "stdout",
          "text": [
            "There are 22 outliers \n",
            "\n",
            "The scaled wig values that are outliers: \n",
            "\n",
            " [1] 4.323765 6.887585 5.460714 3.840561 3.567693 5.443659 7.882415 5.449344\n",
            " [9] 4.323765 5.108259 5.631256 3.925832 5.449344 5.199215 5.381127 5.904124\n",
            "[17] 4.522731 4.522731 4.522731 4.522731 4.323765 7.916524\n"
          ]
        }
      ]
    },
    {
      "cell_type": "markdown",
      "source": [
        "\n",
        "\n",
        "To summarize:\n",
        "\n",
        "In the comparrison of workclass and sex, males lead in all different work classes. The biggest class is the \"Private\" class. The graph also shows more clearly this point in both python and R. \n",
        "\n",
        "In the next contingency table, most were married-civ-spouse with never married as a close second. It was interesting how many more married men than women there were. Once again, it was evident in the bar plots.\n",
        "\n",
        "In the final table it was unclear what to have the two variable be butr since the first two tables had sex as a variable, i used it once again. There were more men that were both over and under 40 but under had less of a range gap.\n",
        "Looking at R there were 113 outliers. Looking at the histogram in python, the outliers seemed to come from the 0-8ish sections. \n",
        "\n",
        "Going into the scaled age set there were 60 outliers.There was a steep dropoff towards the positive side of the plot. It seemed that the lower numbers weighed a lot on the graphs scaled plot. Looking at the scaled age outlier destiny plot, it is very clearly bimodal with a dip in the middle.\n",
        "\n",
        "Next, taking a look at the 80 and over cross tabulation as well as the histograms with age, there was a clear weight from the first half of the values as well as the max value of 90.\n",
        "\n",
        "\n",
        "\n",
        "The other dataset was the nutrition set. The most saturated based on fat and fat per gram is in the report.\n",
        "\n",
        "There were no missing values to correct. \n",
        "\n",
        "For saturated fat there were 20 outliers,cholesterol there were 17, and weight there were 22.\n",
        "\n",
        "\n",
        "\n"
      ],
      "metadata": {
        "id": "G62lhRoJzg4T"
      }
    }
  ],
  "metadata": {
    "colab": {
      "collapsed_sections": [],
      "name": "problem1+2_r.ipynb",
      "provenance": []
    },
    "kernelspec": {
      "display_name": "Python 3",
      "name": "python3"
    },
    "language_info": {
      "name": "python"
    }
  },
  "nbformat": 4,
  "nbformat_minor": 0
}